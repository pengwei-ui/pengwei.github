{
 "cells": [
  {
   "cell_type": "code",
   "execution_count": 7,
   "id": "88f97161",
   "metadata": {
    "ExecuteTime": {
     "end_time": "2022-09-30T07:53:53.019169Z",
     "start_time": "2022-09-30T07:53:53.002328Z"
    }
   },
   "outputs": [],
   "source": [
    "import tensorflow as tf"
   ]
  },
  {
   "cell_type": "code",
   "execution_count": 8,
   "id": "bbae59f3",
   "metadata": {
    "ExecuteTime": {
     "end_time": "2022-09-30T07:53:53.954243Z",
     "start_time": "2022-09-30T07:53:53.944241Z"
    },
    "scrolled": true
   },
   "outputs": [
    {
     "data": {
      "text/plain": [
       "'2.6.0'"
      ]
     },
     "execution_count": 8,
     "metadata": {},
     "output_type": "execute_result"
    }
   ],
   "source": [
    "tf.__version__"
   ]
  },
  {
   "cell_type": "code",
   "execution_count": 9,
   "id": "6da5453b",
   "metadata": {
    "ExecuteTime": {
     "end_time": "2022-09-30T07:53:54.794777Z",
     "start_time": "2022-09-30T07:53:54.778773Z"
    }
   },
   "outputs": [
    {
     "name": "stdout",
     "output_type": "stream",
     "text": [
      "Num GPUs Available:  0\n"
     ]
    }
   ],
   "source": [
    "import tensorflow as tf\n",
    "import os\n",
    "print(\"Num GPUs Available: \", len(tf.config.experimental.list_physical_devices('GPU')))\n",
    "tf.test.is_built_with_gpu_support()\n",
    "os.environ[\"CUDA_VISIBLE_DEVICES\"] = \"0\""
   ]
  },
  {
   "cell_type": "code",
   "execution_count": 4,
   "id": "da1b477c",
   "metadata": {
    "ExecuteTime": {
     "end_time": "2022-09-30T07:44:05.331823Z",
     "start_time": "2022-09-30T07:44:05.319654Z"
    }
   },
   "outputs": [
    {
     "name": "stdout",
     "output_type": "stream",
     "text": [
      "Num GPUs Available:  0\n"
     ]
    }
   ],
   "source": [
    "import tensorflow as tf\n",
    "import os\n",
    "print(\"Num GPUs Available: \", len(tf.config.experimental.list_physical_devices('GPU')))\n",
    "tf.test.is_built_with_gpu_support()\n",
    "os.environ[\"CUDA_VISIBLE_DEVICES\"] = \"0\""
   ]
  },
  {
   "cell_type": "code",
   "execution_count": 4,
   "id": "9c050005",
   "metadata": {
    "ExecuteTime": {
     "end_time": "2022-09-30T07:40:51.745726Z",
     "start_time": "2022-09-30T07:40:51.737376Z"
    }
   },
   "outputs": [
    {
     "name": "stdout",
     "output_type": "stream",
     "text": [
      "2.6.0\n",
      "tf.Tensor(3.0, shape=(), dtype=float32)\n",
      "GPU: False\n"
     ]
    }
   ],
   "source": [
    "import tensorflow as tf\n",
    "import os\n",
    "os.environ['TF_CPP_MIN_LOG_LEVEL']='2'\n",
    "print(tf.__version__)\n",
    "a = tf.constant(1.)\n",
    "b = tf.constant(2.)\n",
    "print(a+b)\n",
    "print('GPU:', tf.test.is_gpu_available())"
   ]
  },
  {
   "cell_type": "code",
   "execution_count": 11,
   "id": "3e252b7a",
   "metadata": {
    "ExecuteTime": {
     "end_time": "2022-09-30T08:20:26.861652Z",
     "start_time": "2022-09-30T08:20:26.855650Z"
    }
   },
   "outputs": [
    {
     "data": {
      "text/plain": [
       "[]"
      ]
     },
     "execution_count": 11,
     "metadata": {},
     "output_type": "execute_result"
    }
   ],
   "source": [
    "b = tf.config.list_physical_devices('GPU')\n",
    "b"
   ]
  }
 ],
 "metadata": {
  "kernelspec": {
   "display_name": "tensorflow",
   "language": "python",
   "name": "tensorflow"
  },
  "language_info": {
   "codemirror_mode": {
    "name": "ipython",
    "version": 3
   },
   "file_extension": ".py",
   "mimetype": "text/x-python",
   "name": "python",
   "nbconvert_exporter": "python",
   "pygments_lexer": "ipython3",
   "version": "3.9.13"
  }
 },
 "nbformat": 4,
 "nbformat_minor": 5
}
