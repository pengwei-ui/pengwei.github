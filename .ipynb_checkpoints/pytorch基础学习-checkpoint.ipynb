{
 "cells": [
  {
   "cell_type": "code",
   "execution_count": 9,
   "id": "cc2bdf36",
   "metadata": {
    "ExecuteTime": {
     "end_time": "2022-05-20T10:37:01.141924Z",
     "start_time": "2022-05-20T10:37:01.136934Z"
    }
   },
   "outputs": [],
   "source": [
    "import torch\n",
    "import matplotlib.pyplot as plt\n",
    "from torch import nn\n",
    "import numpy as np\n",
    "import torch.nn.functional as F"
   ]
  },
  {
   "cell_type": "markdown",
   "id": "a35115ac",
   "metadata": {},
   "source": [
    "#### 生成随机张量矩阵--rand（随机生成）和randn（随机生成正态分布均值为0方差为1）"
   ]
  },
  {
   "cell_type": "code",
   "execution_count": 8,
   "id": "cfe219b2",
   "metadata": {
    "scrolled": true
   },
   "outputs": [
    {
     "data": {
      "text/plain": [
       "tensor([[0.2431, 0.1016, 0.6490, 0.0448],\n",
       "        [0.4803, 0.6808, 0.4235, 0.1137],\n",
       "        [0.1359, 0.8970, 0.1740, 0.3234],\n",
       "        [0.4514, 0.6733, 0.3404, 0.5174]])"
      ]
     },
     "execution_count": 8,
     "metadata": {},
     "output_type": "execute_result"
    }
   ],
   "source": [
    "x = torch.rand(4,4)\n",
    "x"
   ]
  },
  {
   "cell_type": "markdown",
   "id": "4ff6decc",
   "metadata": {},
   "source": [
    "#### view操作可以改变矩阵维度"
   ]
  },
  {
   "cell_type": "code",
   "execution_count": 5,
   "id": "b461e7c8",
   "metadata": {},
   "outputs": [
    {
     "data": {
      "text/plain": [
       "tensor([ 0.1562,  2.2246,  0.2184,  0.5307,  0.6642, -0.3179,  0.2131,  1.2687,\n",
       "        -0.3853,  0.3372, -0.4895, -1.9860,  1.0771, -0.5828,  1.1821, -1.1326])"
      ]
     },
     "execution_count": 5,
     "metadata": {},
     "output_type": "execute_result"
    }
   ],
   "source": [
    "y = x.view(16)\n",
    "y"
   ]
  },
  {
   "cell_type": "markdown",
   "id": "c545b6f4",
   "metadata": {},
   "source": [
    "#### clamp(夹子，固定)函数，将数据划在一定大小数据内"
   ]
  },
  {
   "cell_type": "code",
   "execution_count": 22,
   "id": "3c26ddb9",
   "metadata": {
    "scrolled": true
   },
   "outputs": [
    {
     "data": {
      "text/plain": [
       "tensor([[ 1.2266, -0.1499, -1.0113],\n",
       "        [-0.0220, -0.1962, -0.0717],\n",
       "        [-0.6537, -0.4931, -0.7212]])"
      ]
     },
     "execution_count": 22,
     "metadata": {},
     "output_type": "execute_result"
    }
   ],
   "source": [
    "a = torch.randn(3,3)\n",
    "a"
   ]
  },
  {
   "cell_type": "code",
   "execution_count": 23,
   "id": "fda76187",
   "metadata": {},
   "outputs": [
    {
     "data": {
      "text/plain": [
       "tensor([[1., 0., 0.],\n",
       "        [0., 0., 0.],\n",
       "        [0., 0., 0.]])"
      ]
     },
     "execution_count": 23,
     "metadata": {},
     "output_type": "execute_result"
    }
   ],
   "source": [
    "a = torch.clamp(a,0,1)\n",
    "a"
   ]
  },
  {
   "cell_type": "markdown",
   "id": "9f6d07e7",
   "metadata": {},
   "source": [
    "#### 张量求和"
   ]
  },
  {
   "cell_type": "code",
   "execution_count": 38,
   "id": "8a15f483",
   "metadata": {},
   "outputs": [
    {
     "data": {
      "text/plain": [
       "tensor([[1., 2., 3.],\n",
       "        [4., 5., 6.]])"
      ]
     },
     "execution_count": 38,
     "metadata": {},
     "output_type": "execute_result"
    }
   ],
   "source": [
    "X = torch.tensor([[1.0, 2.0, 3.0], [4.0, 5.0, 6.0]])\n",
    "X"
   ]
  },
  {
   "cell_type": "code",
   "execution_count": 40,
   "id": "3faac867",
   "metadata": {},
   "outputs": [
    {
     "data": {
      "text/plain": [
       "(tensor([[5., 7., 9.]]),\n",
       " tensor([[ 6.],\n",
       "         [15.]]),\n",
       " tensor([ 6., 15.]))"
      ]
     },
     "execution_count": 40,
     "metadata": {},
     "output_type": "execute_result"
    }
   ],
   "source": [
    "X.sum(0, keepdim=True), X.sum(1, keepdim=True),X.sum(1)"
   ]
  },
  {
   "cell_type": "markdown",
   "id": "f21d00c9",
   "metadata": {},
   "source": [
    "#### 寻找最大值---dim=0 代表行在二维矩阵时"
   ]
  },
  {
   "cell_type": "code",
   "execution_count": 47,
   "id": "64e5a6f7",
   "metadata": {},
   "outputs": [
    {
     "data": {
      "text/plain": [
       "(tensor([[1., 2., 3.],\n",
       "         [4., 5., 6.]]),\n",
       " torch.Size([2, 3]))"
      ]
     },
     "execution_count": 47,
     "metadata": {},
     "output_type": "execute_result"
    }
   ],
   "source": [
    "a  = torch.tensor([[1.0, 2.0, 3.0], [4.0, 5.0, 6.0]])\n",
    "a,a.size()"
   ]
  },
  {
   "cell_type": "code",
   "execution_count": 48,
   "id": "7a60a133",
   "metadata": {},
   "outputs": [
    {
     "data": {
      "text/plain": [
       "tensor([[5., 7., 9.]])"
      ]
     },
     "execution_count": 48,
     "metadata": {},
     "output_type": "execute_result"
    }
   ],
   "source": [
    "torch.sum(a,dim = 0 ,keepdim = True)"
   ]
  },
  {
   "cell_type": "code",
   "execution_count": 45,
   "id": "3dbd8809",
   "metadata": {
    "scrolled": true
   },
   "outputs": [
    {
     "data": {
      "text/plain": [
       "tensor([1, 1, 1])"
      ]
     },
     "execution_count": 45,
     "metadata": {},
     "output_type": "execute_result"
    }
   ],
   "source": [
    "idx = a.argmax(dim = 0)\n",
    "idx"
   ]
  },
  {
   "cell_type": "code",
   "execution_count": 46,
   "id": "1c138854",
   "metadata": {},
   "outputs": [
    {
     "data": {
      "text/plain": [
       "tensor([2, 2])"
      ]
     },
     "execution_count": 46,
     "metadata": {},
     "output_type": "execute_result"
    }
   ],
   "source": [
    "idx = a.argmax(dim = 1)\n",
    "idx"
   ]
  },
  {
   "cell_type": "markdown",
   "id": "70443366",
   "metadata": {},
   "source": [
    "#### python中的isinstance用法"
   ]
  },
  {
   "cell_type": "markdown",
   "id": "ebccb9d5",
   "metadata": {},
   "source": [
    "类似于type判断是否是这个类型的数据\n",
    "\n",
    "if isinstance(updater, torch.optim.Optimizer):\n",
    "\n",
    "作用是判断updater是否是torch内置的优化器，是的话就运行if之后的运行语句"
   ]
  },
  {
   "cell_type": "markdown",
   "id": "4b6f1f09",
   "metadata": {},
   "source": [
    "#### 让训练更加稳定--防止梯度消失和梯度爆炸"
   ]
  },
  {
   "cell_type": "markdown",
   "id": "81698858",
   "metadata": {},
   "source": [
    "将乘法变为加法： Resnet,LSTM\n",
    "\n",
    "归一化：梯度归一化\n",
    "\n",
    "合理的权重初始和激活函数\n"
   ]
  },
  {
   "cell_type": "markdown",
   "id": "91dcaf75",
   "metadata": {},
   "source": [
    "#### 过拟合——解决办法一：暂退法dropout"
   ]
  },
  {
   "attachments": {
    "image.png": {
     "image/png": "[encoded data removed]"
    }
   },
   "cell_type": "markdown",
   "id": "9d271583",
   "metadata": {},
   "source": [
    "![image.png](attachment:image.png)"
   ]
  },
  {
   "cell_type": "code",
   "execution_count": 9,
   "id": "4400eb49",
   "metadata": {},
   "outputs": [
    {
     "name": "stderr",
     "output_type": "stream",
     "text": [
      "C:\\Users\\13923\\.conda\\envs\\pytorch\\lib\\site-packages\\torchvision\\io\\image.py:13: UserWarning: Failed to load image Python extension: Could not find module 'C:\\Users\\13923\\.conda\\envs\\pytorch\\Lib\\site-packages\\torchvision\\image.pyd' (or one of its dependencies). Try using the full path with constructor syntax.\n",
      "  warn(f\"Failed to load image Python extension: {e}\")\n"
     ]
    }
   ],
   "source": [
    "import torch\n",
    "from torch import nn\n",
    "from d2l import torch as d2l\n",
    "\n",
    "\n",
    "def dropout_layer(X, dropout):\n",
    "    assert 0 <= dropout <= 1\n",
    "    # 在本情况中，所有元素都被丢弃\n",
    "    if dropout == 1:\n",
    "        return torch.zeros_like(X)\n",
    "    # 在本情况中，所有元素都被保留\n",
    "    if dropout == 0:\n",
    "        return X\n",
    "    mask = (torch.rand(X.shape) > dropout).float()\n",
    "    return mask * X / (1.0 - dropout)"
   ]
  },
  {
   "cell_type": "code",
   "execution_count": 10,
   "id": "7d8130b3",
   "metadata": {},
   "outputs": [
    {
     "name": "stdout",
     "output_type": "stream",
     "text": [
      "tensor([[ 0.,  1.,  2.,  3.,  4.,  5.,  6.,  7.],\n",
      "        [ 8.,  9., 10., 11., 12., 13., 14., 15.]])\n",
      "tensor([[ 0.,  1.,  2.,  3.,  4.,  5.,  6.,  7.],\n",
      "        [ 8.,  9., 10., 11., 12., 13., 14., 15.]])\n",
      "tensor([[ 0.,  0.,  0.,  0.,  8., 10.,  0., 14.],\n",
      "        [16.,  0.,  0., 22.,  0., 26.,  0.,  0.]])\n",
      "tensor([[0., 0., 0., 0., 0., 0., 0., 0.],\n",
      "        [0., 0., 0., 0., 0., 0., 0., 0.]])\n"
     ]
    }
   ],
   "source": [
    "X= torch.arange(16, dtype = torch.float32).reshape((2, 8))\n",
    "print(X)\n",
    "print(dropout_layer(X, 0.))\n",
    "print(dropout_layer(X, 0.5))\n",
    "print(dropout_layer(X, 1.))"
   ]
  },
  {
   "cell_type": "code",
   "execution_count": 102,
   "id": "45f24626",
   "metadata": {},
   "outputs": [
    {
     "data": {
      "text/plain": [
       "tensor([[ 1.2423,  0.6796,  1.5708, -0.3564],\n",
       "        [ 1.0992,  0.3935,  0.0654, -0.5082]])"
      ]
     },
     "execution_count": 102,
     "metadata": {},
     "output_type": "execute_result"
    }
   ],
   "source": [
    "y = torch.normal(mean=0.,std=1.,size=(2,4))\n",
    "y"
   ]
  },
  {
   "cell_type": "code",
   "execution_count": 104,
   "id": "d8c07191",
   "metadata": {},
   "outputs": [
    {
     "data": {
      "text/plain": [
       "tensor(0.5233)"
      ]
     },
     "execution_count": 104,
     "metadata": {},
     "output_type": "execute_result"
    }
   ],
   "source": [
    "y.mean() "
   ]
  },
  {
   "cell_type": "code",
   "execution_count": 103,
   "id": "179f68a8",
   "metadata": {},
   "outputs": [
    {
     "data": {
      "text/plain": [
       "tensor(0.7592)"
      ]
     },
     "execution_count": 103,
     "metadata": {},
     "output_type": "execute_result"
    }
   ],
   "source": [
    "y.std()"
   ]
  },
  {
   "cell_type": "code",
   "execution_count": 87,
   "id": "b01269fb",
   "metadata": {
    "scrolled": false
   },
   "outputs": [
    {
     "data": {
      "text/plain": [
       "tensor([[-0.4301, -1.5542,  0.8502,  0.7741,  1.5213,  0.3849, -0.5106, -0.7419],\n",
       "        [ 0.4139,  0.5023,  0.6606,  0.2586,  0.7260, -1.4534, -0.6685,  0.1513]])"
      ]
     },
     "execution_count": 87,
     "metadata": {},
     "output_type": "execute_result"
    }
   ],
   "source": [
    "torch.normal(0,1,X.shape) "
   ]
  },
  {
   "cell_type": "code",
   "execution_count": 91,
   "id": "a769d0c1",
   "metadata": {},
   "outputs": [
    {
     "data": {
      "text/plain": [
       "[0, 1, 2, 3, 4, 5, 6, 7, 8, 9, 10, 11, 12, 13, 14, 15]"
      ]
     },
     "execution_count": 91,
     "metadata": {},
     "output_type": "execute_result"
    }
   ],
   "source": [
    "y = np.array(torch.normal(0,1,X.shape))\n",
    "x = [i for i in range(16)]\n",
    "x"
   ]
  },
  {
   "cell_type": "code",
   "execution_count": 92,
   "id": "5411297a",
   "metadata": {
    "scrolled": true
   },
   "outputs": [
    {
     "data": {
      "text/plain": [
       "<matplotlib.collections.PathCollection at 0x1dbce8f1430>"
      ]
     },
     "execution_count": 92,
     "metadata": {},
     "output_type": "execute_result"
    },
    {
     "data": {
      "image/png": "[encoded data removed]",
      "text/plain": [
       "<Figure size 432x288 with 1 Axes>"
      ]
     },
     "metadata": {
      "needs_background": "light"
     },
     "output_type": "display_data"
    }
   ],
   "source": [
    "plt.scatter(x,y)"
   ]
  },
  {
   "cell_type": "code",
   "execution_count": 30,
   "id": "e7b736c0",
   "metadata": {
    "scrolled": true
   },
   "outputs": [
    {
     "data": {
      "text/plain": [
       "tensor([[False,  True,  True,  True, False, False, False, False],\n",
       "        [False, False, False, False, False, False,  True,  True]])"
      ]
     },
     "execution_count": 30,
     "metadata": {},
     "output_type": "execute_result"
    }
   ],
   "source": [
    "torch.rand(X.shape) >0.5"
   ]
  },
  {
   "cell_type": "code",
   "execution_count": 14,
   "id": "e2f0ed29",
   "metadata": {
    "scrolled": true
   },
   "outputs": [
    {
     "data": {
      "text/plain": [
       "tensor([[1., 0., 1., 0., 1., 1., 0., 1.],\n",
       "        [1., 0., 1., 0., 0., 1., 0., 0.]])"
      ]
     },
     "execution_count": 14,
     "metadata": {},
     "output_type": "execute_result"
    }
   ],
   "source": [
    "mask = (torch.rand(X.shape) > 0.5).float()\n",
    "mask"
   ]
  },
  {
   "cell_type": "markdown",
   "id": "4c411fe1",
   "metadata": {},
   "source": [
    "在pytorch中直接就有这个dropout这个框架可以直接引用--dropout1为自己输入的概率"
   ]
  },
  {
   "cell_type": "markdown",
   "id": "d7a59e32",
   "metadata": {},
   "source": [
    "net = nn.Sequential(nn.Flatten(),\n",
    "\n",
    "        nn.Linear(784, 256),\n",
    "        \n",
    "        nn.ReLU(),\n",
    "        # 在第一个全连接层之后添加一个dropout层\n",
    "        \n",
    "        nn.Dropout(dropout1),\n",
    "        \n",
    "        nn.Linear(256, 256),\n",
    "        \n",
    "        nn.ReLU(),\n",
    "        \n",
    "        # 在第二个全连接层之后添加一个dropout层\n",
    "        \n",
    "        nn.Dropout(dropout2),\n",
    "        \n",
    "        nn.Linear(256, 10))\n",
    "\n",
    "def init_weights(m):\n",
    "\n",
    "    if type(m) == nn.Linear:\n",
    "    \n",
    "        nn.init.normal_(m.weight, std=0.01)\n",
    "        \n",
    "\n",
    "net.apply(init_weights);"
   ]
  },
  {
   "cell_type": "markdown",
   "id": "03853964",
   "metadata": {},
   "source": [
    "#### K折交叉验证--是针对验证集进行验证"
   ]
  },
  {
   "cell_type": "code",
   "execution_count": null,
   "id": "0e475092",
   "metadata": {},
   "outputs": [],
   "source": [
    "def get_k_fold_data(k, i, X, y):\n",
    "    assert k > 1\n",
    "    fold_size = X.shape[0] // k\n",
    "    X_train, y_train = None, None\n",
    "    for j in range(k):\n",
    "        idx = slice(j * fold_size, (j + 1) * fold_size)\n",
    "        X_part, y_part = X[idx, :], y[idx]\n",
    "        if j == i:\n",
    "            X_valid, y_valid = X_part, y_part\n",
    "        elif X_train is None:\n",
    "            X_train, y_train = X_part, y_part\n",
    "        else:\n",
    "            X_train = torch.cat([X_train, X_part], 0)\n",
    "            y_train = torch.cat([y_train, y_part], 0)\n",
    "    return X_train, y_train, X_valid, y_valid"
   ]
  },
  {
   "cell_type": "code",
   "execution_count": null,
   "id": "9242a40d",
   "metadata": {},
   "outputs": [],
   "source": [
    "def k_fold(k, X_train, y_train, num_epochs, learning_rate, weight_decay,\n",
    "           batch_size):\n",
    "    train_l_sum, valid_l_sum = 0, 0\n",
    "    for i in range(k):\n",
    "        data = get_k_fold_data(k, i, X_train, y_train)\n",
    "        net = get_net()\n",
    "        train_ls, valid_ls = train(net, *data, num_epochs, learning_rate,\n",
    "                                   weight_decay, batch_size)\n",
    "        train_l_sum += train_ls[-1]\n",
    "        valid_l_sum += valid_ls[-1]\n",
    "        if i == 0:\n",
    "            d2l.plot(list(range(1, num_epochs + 1)), [train_ls, valid_ls],\n",
    "                     xlabel='epoch', ylabel='rmse', xlim=[1, num_epochs],\n",
    "                     legend=['train', 'valid'], yscale='log')\n",
    "        print(f'折{i + 1}，训练log rmse{float(train_ls[-1]):f}, '\n",
    "              f'验证log rmse{float(valid_ls[-1]):f}')\n",
    "    return train_l_sum / k, valid_l_sum / k"
   ]
  },
  {
   "cell_type": "markdown",
   "id": "98e3a24f",
   "metadata": {},
   "source": [
    "#### 自定义块"
   ]
  },
  {
   "cell_type": "code",
   "execution_count": 125,
   "id": "af46eb71",
   "metadata": {},
   "outputs": [],
   "source": [
    "x= torch.rand(2, 20)"
   ]
  },
  {
   "cell_type": "code",
   "execution_count": 130,
   "id": "2a1cecc2",
   "metadata": {},
   "outputs": [],
   "source": [
    "class MLP(nn.Module):\n",
    "    # 用模型参数声明层。这里，我们声明两个全连接的层\n",
    "    def __init__(self):\n",
    "        # 调用MLP的父类Module的构造函数来执行必要的初始化。\n",
    "        # 这样，在类实例化时也可以指定其他函数参数，例如模型参数params（稍后将介绍）\n",
    "        super().__init__()\n",
    "        self.hidden = nn.Linear(20, 256)  # 隐藏层\n",
    "        self.out = nn.Linear(256, 10)  # 输出层\n",
    "\n",
    "    # 定义模型的前向传播，即如何根据输入X返回所需的模型输出\n",
    "    def forward(self, X):\n",
    "        # 注意，这里我们使用ReLU的函数版本，其在nn.functional模块中定义。\n",
    "        return self.out(F.relu(self.hidden(X)))"
   ]
  },
  {
   "cell_type": "code",
   "execution_count": 131,
   "id": "6c745fdc",
   "metadata": {},
   "outputs": [
    {
     "data": {
      "text/plain": [
       "tensor([[-0.0247,  0.0626, -0.2800, -0.0540, -0.2077,  0.1092, -0.0448,  0.0848,\n",
       "         -0.3024, -0.0779],\n",
       "        [-0.0005, -0.1626, -0.1482, -0.0266, -0.1764,  0.0311, -0.0367,  0.2184,\n",
       "         -0.2445, -0.1123]], grad_fn=<AddmmBackward0>)"
      ]
     },
     "execution_count": 131,
     "metadata": {},
     "output_type": "execute_result"
    }
   ],
   "source": [
    "net = MLP()\n",
    "net(x)"
   ]
  },
  {
   "cell_type": "code",
   "execution_count": 142,
   "id": "da530f74",
   "metadata": {},
   "outputs": [
    {
     "name": "stderr",
     "output_type": "stream",
     "text": [
      "Enabling notebook extension execute_time/ExecuteTime...\n",
      "      - Validating: problems found:\n",
      "        - require?  X execute_time/ExecuteTime\n"
     ]
    }
   ],
   "source": [
    "# !pip install jupyter_contrib_nbextensions\n",
    "# !jupyter contrib nbextension install --user\n",
    "!jupyter nbextension enable execute_time/ExecuteTime"
   ]
  },
  {
   "cell_type": "markdown",
   "id": "c1269353",
   "metadata": {},
   "source": [
    "#### 顺序块"
   ]
  },
  {
   "cell_type": "code",
   "execution_count": 137,
   "id": "deddf420",
   "metadata": {},
   "outputs": [],
   "source": [
    "class MySequential(nn.Module):\n",
    "    def __init__(self, *args):\n",
    "        super().__init__()\n",
    "        for idx, module in enumerate(args):\n",
    "            # 这里，module是Module子类的一个实例。我们把它保存在'Module'类的成员\n",
    "            # 变量_modules中。module的类型是OrderedDict\n",
    "            self._modules[str(idx)] = module\n",
    "\n",
    "    def forward(self, X):\n",
    "        # OrderedDict保证了按照成员添加的顺序遍历它们\n",
    "        for block in self._modules.values():\n",
    "            X = block(X)\n",
    "        return X"
   ]
  },
  {
   "cell_type": "code",
   "execution_count": 133,
   "id": "cc877945",
   "metadata": {},
   "outputs": [
    {
     "data": {
      "text/plain": [
       "tensor([[ 0.2527, -0.0577, -0.0696,  0.2020,  0.1705,  0.0532, -0.2854, -0.0033,\n",
       "          0.0539, -0.0429],\n",
       "        [ 0.1408, -0.1444, -0.0295,  0.1759,  0.1266, -0.0912, -0.3283,  0.0621,\n",
       "         -0.0857, -0.0356]], grad_fn=<AddmmBackward0>)"
      ]
     },
     "execution_count": 133,
     "metadata": {},
     "output_type": "execute_result"
    }
   ],
   "source": [
    "net = MySequential(nn.Linear(20,256),nn.ReLU(),nn.Linear(256,10))\n",
    "net(x)"
   ]
  },
  {
   "cell_type": "markdown",
   "id": "4c52effa",
   "metadata": {},
   "source": [
    "#### 与numpy的协同操作"
   ]
  },
  {
   "cell_type": "code",
   "execution_count": 6,
   "id": "5c32dc39",
   "metadata": {},
   "outputs": [
    {
     "data": {
      "text/plain": [
       "tensor([1., 1., 1., 1., 1.])"
      ]
     },
     "execution_count": 6,
     "metadata": {},
     "output_type": "execute_result"
    }
   ],
   "source": [
    "a = torch.ones(5)\n",
    "a"
   ]
  },
  {
   "cell_type": "code",
   "execution_count": 7,
   "id": "5b5c512e",
   "metadata": {},
   "outputs": [
    {
     "data": {
      "text/plain": [
       "array([1., 1., 1., 1., 1.], dtype=float32)"
      ]
     },
     "execution_count": 7,
     "metadata": {},
     "output_type": "execute_result"
    }
   ],
   "source": [
    "b = a.numpy()\n",
    "b"
   ]
  },
  {
   "cell_type": "code",
   "execution_count": 8,
   "id": "e9d77dfd",
   "metadata": {},
   "outputs": [
    {
     "data": {
      "text/plain": [
       "tensor([1., 1., 1., 1., 1.], dtype=torch.float64)"
      ]
     },
     "execution_count": 8,
     "metadata": {},
     "output_type": "execute_result"
    }
   ],
   "source": [
    "import numpy as np\n",
    "a = np.ones(5)\n",
    "b = torch.from_numpy(a)\n",
    "b"
   ]
  },
  {
   "cell_type": "markdown",
   "id": "03d734b3",
   "metadata": {},
   "source": [
    "#### 自动求导机制"
   ]
  },
  {
   "cell_type": "code",
   "execution_count": 10,
   "id": "7e9d72f7",
   "metadata": {},
   "outputs": [
    {
     "data": {
      "text/plain": [
       "tensor([[ 1.0374,  0.8384,  0.0074, -0.0286],\n",
       "        [-0.9471,  0.6009,  0.1231, -0.1910],\n",
       "        [ 0.2635, -0.2844, -0.8753,  0.2320]], requires_grad=True)"
      ]
     },
     "execution_count": 10,
     "metadata": {},
     "output_type": "execute_result"
    }
   ],
   "source": [
    "x = torch.randn(3,4,requires_grad = True)    #需要求导\n",
    "x"
   ]
  },
  {
   "cell_type": "code",
   "execution_count": 12,
   "id": "e81dd07d",
   "metadata": {},
   "outputs": [
    {
     "data": {
      "text/plain": [
       "tensor([[ 1.9450,  1.5083, -0.2248, -0.0096],\n",
       "        [ 0.5961,  1.1861, -0.7219, -1.0772],\n",
       "        [ 1.5350,  0.0274,  0.7376,  1.2762]], requires_grad=True)"
      ]
     },
     "execution_count": 12,
     "metadata": {},
     "output_type": "execute_result"
    }
   ],
   "source": [
    "b = torch.randn(3,4,requires_grad = True)\n",
    "b"
   ]
  },
  {
   "cell_type": "code",
   "execution_count": 14,
   "id": "31ee3044",
   "metadata": {},
   "outputs": [
    {
     "data": {
      "text/plain": [
       "tensor([[ 2.9824,  2.3467, -0.2174, -0.0382],\n",
       "        [-0.3511,  1.7870, -0.5988, -1.2682],\n",
       "        [ 1.7984, -0.2569, -0.1378,  1.5082]], grad_fn=<AddBackward0>)"
      ]
     },
     "execution_count": 14,
     "metadata": {},
     "output_type": "execute_result"
    }
   ],
   "source": [
    "t = x+b\n",
    "t"
   ]
  },
  {
   "cell_type": "code",
   "execution_count": 15,
   "id": "e23cf639",
   "metadata": {},
   "outputs": [
    {
     "data": {
      "text/plain": [
       "tensor(7.5544, grad_fn=<SumBackward0>)"
      ]
     },
     "execution_count": 15,
     "metadata": {},
     "output_type": "execute_result"
    }
   ],
   "source": [
    "y = t.sum()\n",
    "y"
   ]
  },
  {
   "cell_type": "code",
   "execution_count": 16,
   "id": "d2661731",
   "metadata": {},
   "outputs": [],
   "source": [
    "y.backward()"
   ]
  },
  {
   "cell_type": "code",
   "execution_count": 17,
   "id": "fc8ea56f",
   "metadata": {},
   "outputs": [
    {
     "data": {
      "text/plain": [
       "tensor([[1., 1., 1., 1.],\n",
       "        [1., 1., 1., 1.],\n",
       "        [1., 1., 1., 1.]])"
      ]
     },
     "execution_count": 17,
     "metadata": {},
     "output_type": "execute_result"
    }
   ],
   "source": [
    "b.grad"
   ]
  },
  {
   "cell_type": "markdown",
   "id": "fb900aa7",
   "metadata": {},
   "source": [
    "#### t会默认加上求导机制"
   ]
  },
  {
   "cell_type": "code",
   "execution_count": 19,
   "id": "b1037e43",
   "metadata": {
    "scrolled": true
   },
   "outputs": [
    {
     "data": {
      "text/plain": [
       "(True, True, True)"
      ]
     },
     "execution_count": 19,
     "metadata": {},
     "output_type": "execute_result"
    }
   ],
   "source": [
    "x.requires_grad,b.requires_grad,t.requires_grad"
   ]
  },
  {
   "cell_type": "markdown",
   "id": "b400fbec",
   "metadata": {},
   "source": [
    "#### 反向传播--如果不清空。会累积后面求导的值"
   ]
  },
  {
   "cell_type": "code",
   "execution_count": 28,
   "id": "db0ebabe",
   "metadata": {},
   "outputs": [],
   "source": [
    "x = torch.rand(1)\n",
    "b = torch.rand(1,requires_grad = True)\n",
    "w = torch.rand(1,requires_grad = True)\n",
    "y = w*x\n",
    "z = y+b"
   ]
  },
  {
   "cell_type": "code",
   "execution_count": 29,
   "id": "163e0372",
   "metadata": {},
   "outputs": [
    {
     "data": {
      "text/plain": [
       "(False, True, True, True)"
      ]
     },
     "execution_count": 29,
     "metadata": {},
     "output_type": "execute_result"
    }
   ],
   "source": [
    "x.requires_grad,b.requires_grad,w.requires_grad,y.requires_grad"
   ]
  },
  {
   "cell_type": "code",
   "execution_count": 47,
   "id": "cd0c5322",
   "metadata": {},
   "outputs": [],
   "source": [
    "z.backward(retain_graph = True)  # 如果不清空。会累积后面求导的值"
   ]
  },
  {
   "cell_type": "code",
   "execution_count": 48,
   "id": "b300461c",
   "metadata": {},
   "outputs": [
    {
     "data": {
      "text/plain": [
       "tensor([2.6918])"
      ]
     },
     "execution_count": 48,
     "metadata": {},
     "output_type": "execute_result"
    }
   ],
   "source": [
    "w.grad"
   ]
  },
  {
   "cell_type": "code",
   "execution_count": 49,
   "id": "b50fa9d4",
   "metadata": {},
   "outputs": [
    {
     "data": {
      "text/plain": [
       "tensor([3.])"
      ]
     },
     "execution_count": 49,
     "metadata": {},
     "output_type": "execute_result"
    }
   ],
   "source": [
    "b.grad"
   ]
  },
  {
   "attachments": {
    "image.png": {
     "image/png": "[encoded data removed]"
    }
   },
   "cell_type": "markdown",
   "id": "1ab1431b",
   "metadata": {},
   "source": [
    "![image.png](attachment:image.png)"
   ]
  },
  {
   "attachments": {
    "image.png": {
     "image/png": "[encoded data removed]"
    }
   },
   "cell_type": "markdown",
   "id": "d33537ea",
   "metadata": {},
   "source": [
    "![image.png](attachment:image.png)"
   ]
  },
  {
   "cell_type": "markdown",
   "id": "fd6f11d1",
   "metadata": {},
   "source": [
    "解决办法要进行梯度清零\n",
    "\n",
    "用随机梯度下降方法进行举例 进行梯度清零\n",
    "\n",
    "optimizer = optim.SGD(model.parameters(),lr = 0.0001)\n",
    "\n",
    "optimizer.zero_grad()"
   ]
  },
  {
   "cell_type": "markdown",
   "id": "ac0e28d3",
   "metadata": {},
   "source": [
    "#### 计算误差，损失函数"
   ]
  },
  {
   "attachments": {
    "image.png": {
     "image/png": "[encoded data removed]"
    }
   },
   "cell_type": "markdown",
   "id": "62011f13",
   "metadata": {},
   "source": [
    "mseloss函数计算公式：\n",
    "\n",
    "![image.png](attachment:image.png)"
   ]
  },
  {
   "attachments": {
    "image-2.png": {
     "image/png": "[encoded data removed]"
    }
   },
   "cell_type": "markdown",
   "id": "03aa42b2",
   "metadata": {},
   "source": [
    "当比如是训练预测房价这一类问题，房价max和min之间幅度大，那么单纯使用MSEloss就不合理，用使用相对误差，对数对于相对误差很有用。\n",
    "\n",
    "![image-2.png](attachment:image-2.png)\n",
    "\n",
    "在pytorch中的写法（使用log函数）：\n",
    "\n",
    "y_pred = torch.clamp(model(x),1,float('inf'))  #将小于1的数据，让其为1，因为后面要进行log运算\n",
    "\n",
    "rmse = torch.sqrt(loss(torch.log(y_pred),torcch.log(y))"
   ]
  },
  {
   "cell_type": "markdown",
   "id": "17cd1c64",
   "metadata": {},
   "source": [
    "### pytorch使用GPU进行训练"
   ]
  },
  {
   "cell_type": "markdown",
   "id": "422e74e9",
   "metadata": {},
   "source": [
    "#### 查看GPU数量"
   ]
  },
  {
   "cell_type": "code",
   "execution_count": 3,
   "id": "0a39c920",
   "metadata": {},
   "outputs": [
    {
     "data": {
      "text/plain": [
       "1"
      ]
     },
     "execution_count": 3,
     "metadata": {},
     "output_type": "execute_result"
    }
   ],
   "source": [
    "torch.cuda.device_count()"
   ]
  },
  {
   "cell_type": "code",
   "execution_count": 4,
   "id": "494171ba",
   "metadata": {
    "scrolled": false
   },
   "outputs": [
    {
     "data": {
      "text/plain": [
       "(device(type='cuda', index=0),\n",
       " device(type='cpu'),\n",
       " [device(type='cuda', index=0)])"
      ]
     },
     "execution_count": 4,
     "metadata": {},
     "output_type": "execute_result"
    }
   ],
   "source": [
    "def try_gpu(i=0):  #@save\n",
    "    \"\"\"如果存在，则返回gpu(i)，否则返回cpu()\"\"\"\n",
    "    if torch.cuda.device_count() >= i + 1:\n",
    "        return torch.device(f'cuda:{i}')\n",
    "    return torch.device('cpu')\n",
    "\n",
    "def try_all_gpus():  #@save\n",
    "    \"\"\"返回所有可用的GPU，如果没有GPU，则返回[cpu(),]\"\"\"\n",
    "    devices = [torch.device(f'cuda:{i}')\n",
    "             for i in range(torch.cuda.device_count())]\n",
    "    return devices if devices else [torch.device('cpu')]\n",
    "\n",
    "try_gpu(), try_gpu(10), try_all_gpus()"
   ]
  },
  {
   "cell_type": "markdown",
   "id": "93f43854",
   "metadata": {},
   "source": [
    "#### 查询张量所在位置"
   ]
  },
  {
   "cell_type": "markdown",
   "id": "9ed20100",
   "metadata": {},
   "source": [
    "需要注意的是，无论何时我们要对多个项进行操作， 它们都必须在同一个设备上。 例如，如果我们对两个张量求和， 我们需要确保两个张量都位于同一个设备上， 否则框架将不知道在哪里存储结果，甚至不知道在哪里执行计算。"
   ]
  },
  {
   "cell_type": "code",
   "execution_count": 5,
   "id": "195b0f4e",
   "metadata": {},
   "outputs": [
    {
     "data": {
      "text/plain": [
       "device(type='cpu')"
      ]
     },
     "execution_count": 5,
     "metadata": {},
     "output_type": "execute_result"
    }
   ],
   "source": [
    "x = torch.tensor([1, 2, 3])\n",
    "x.device"
   ]
  },
  {
   "cell_type": "markdown",
   "id": "dda2e5e2",
   "metadata": {},
   "source": [
    "#### 将数据存储到GPU上"
   ]
  },
  {
   "cell_type": "markdown",
   "id": "b8b7b4a8",
   "metadata": {},
   "source": [
    "法一： 在声明数据时直接将数据放在GPU"
   ]
  },
  {
   "cell_type": "code",
   "execution_count": 6,
   "id": "c73a8ab2",
   "metadata": {
    "scrolled": true
   },
   "outputs": [
    {
     "data": {
      "text/plain": [
       "tensor([[1., 1., 1.],\n",
       "        [1., 1., 1.]], device='cuda:0')"
      ]
     },
     "execution_count": 6,
     "metadata": {},
     "output_type": "execute_result"
    }
   ],
   "source": [
    "X = torch.ones(2, 3, device=try_gpu())\n",
    "X"
   ]
  },
  {
   "cell_type": "markdown",
   "id": "84fcab60",
   "metadata": {},
   "source": [
    "法二"
   ]
  },
  {
   "cell_type": "code",
   "execution_count": 14,
   "id": "3831762f",
   "metadata": {},
   "outputs": [],
   "source": [
    "device = torch.device('cuda' if torch.cuda.is_available() else 'cpu')"
   ]
  },
  {
   "cell_type": "code",
   "execution_count": 15,
   "id": "39a8363c",
   "metadata": {},
   "outputs": [
    {
     "data": {
      "text/plain": [
       "(tensor([[1., 1., 1.],\n",
       "         [1., 1., 1.]]),\n",
       " device(type='cpu'))"
      ]
     },
     "execution_count": 15,
     "metadata": {},
     "output_type": "execute_result"
    }
   ],
   "source": [
    "Y= torch.ones(2, 3)\n",
    "Y,Y.device"
   ]
  },
  {
   "cell_type": "markdown",
   "id": "7e1a5168",
   "metadata": {},
   "source": [
    "报错：因为数据一个在CPU上一个在GPU上"
   ]
  },
  {
   "cell_type": "code",
   "execution_count": 16,
   "id": "0b4992e0",
   "metadata": {},
   "outputs": [
    {
     "ename": "RuntimeError",
     "evalue": "Expected all tensors to be on the same device, but found at least two devices, cuda:0 and cpu!",
     "output_type": "error",
     "traceback": [
      "\u001b[1;31m---------------------------------------------------------------------------\u001b[0m",
      "\u001b[1;31mRuntimeError\u001b[0m                              Traceback (most recent call last)",
      "Input \u001b[1;32mIn [16]\u001b[0m, in \u001b[0;36m<cell line: 1>\u001b[1;34m()\u001b[0m\n\u001b[1;32m----> 1\u001b[0m \u001b[43mX\u001b[49m\u001b[38;5;241;43m+\u001b[39;49m\u001b[43mY\u001b[49m\n",
      "\u001b[1;31mRuntimeError\u001b[0m: Expected all tensors to be on the same device, but found at least two devices, cuda:0 and cpu!"
     ]
    }
   ],
   "source": [
    "X+Y"
   ]
  },
  {
   "cell_type": "code",
   "execution_count": 12,
   "id": "852f47a7",
   "metadata": {},
   "outputs": [
    {
     "data": {
      "text/plain": [
       "(tensor([[1., 1., 1.],\n",
       "         [1., 1., 1.]], device='cuda:0'),\n",
       " device(type='cuda', index=0))"
      ]
     },
     "execution_count": 12,
     "metadata": {},
     "output_type": "execute_result"
    }
   ],
   "source": [
    "Y = Y.to(device)\n",
    "Y,Y.device"
   ]
  },
  {
   "cell_type": "markdown",
   "id": "b51670b9",
   "metadata": {},
   "source": [
    "要在同一个设备上才能运行"
   ]
  },
  {
   "cell_type": "code",
   "execution_count": 13,
   "id": "f57ffc45",
   "metadata": {
    "scrolled": true
   },
   "outputs": [
    {
     "data": {
      "text/plain": [
       "tensor([[2., 2., 2.],\n",
       "        [2., 2., 2.]], device='cuda:0')"
      ]
     },
     "execution_count": 13,
     "metadata": {},
     "output_type": "execute_result"
    }
   ],
   "source": [
    "X+Y"
   ]
  },
  {
   "cell_type": "code",
   "execution_count": 17,
   "id": "b5128ed7",
   "metadata": {},
   "outputs": [],
   "source": [
    "import time"
   ]
  },
  {
   "cell_type": "code",
   "execution_count": 21,
   "id": "0f582097",
   "metadata": {},
   "outputs": [
    {
     "name": "stdout",
     "output_type": "stream",
     "text": [
      "time :0.002002716064453125\n"
     ]
    }
   ],
   "source": [
    "start_time = time.time()\n",
    "a = []\n",
    "for i in range(100):\n",
    "    for j in range(100):\n",
    "        a.append(i*j)\n",
    "    pass\n",
    "end_time = time.time()\n",
    "print(\"time :{}\".format(end_time - start_time))\n"
   ]
  },
  {
   "cell_type": "markdown",
   "id": "ceb00956",
   "metadata": {},
   "source": [
    "### 线性回归试试水"
   ]
  },
  {
   "cell_type": "code",
   "execution_count": 62,
   "id": "f988e6c5",
   "metadata": {},
   "outputs": [
    {
     "data": {
      "text/plain": [
       "((11, 1), numpy.ndarray)"
      ]
     },
     "execution_count": 62,
     "metadata": {},
     "output_type": "execute_result"
    }
   ],
   "source": [
    "x_values = [i for i in range(11)]\n",
    "x_train = np.array(x_values,dtype = np.float32)\n",
    "x_train = x_train.reshape(-1,1)\n",
    "x_train.shape,type(x_train)"
   ]
  },
  {
   "cell_type": "code",
   "execution_count": 51,
   "id": "1d0ec8ce",
   "metadata": {},
   "outputs": [
    {
     "data": {
      "text/plain": [
       "(11, 1)"
      ]
     },
     "execution_count": 51,
     "metadata": {},
     "output_type": "execute_result"
    }
   ],
   "source": [
    "y_values = [2*i for i in range(11)]\n",
    "y_train = np.array(y_values,dtype = np.float32)\n",
    "y_train = y_train.reshape(-1,1)\n",
    "y_train.shape"
   ]
  },
  {
   "cell_type": "code",
   "execution_count": 55,
   "id": "cb9bff65",
   "metadata": {},
   "outputs": [],
   "source": [
    "import torch\n",
    "import torch.nn as nn\n",
    "import matplotlib.pyplot as plt"
   ]
  },
  {
   "cell_type": "code",
   "execution_count": 56,
   "id": "a2b7dda8",
   "metadata": {},
   "outputs": [
    {
     "data": {
      "text/plain": [
       "[<matplotlib.lines.Line2D at 0x21911595490>]"
      ]
     },
     "execution_count": 56,
     "metadata": {},
     "output_type": "execute_result"
    },
    {
     "data": {
      "image/png": "[encoded data removed]",
      "text/plain": [
       "<Figure size 432x288 with 1 Axes>"
      ]
     },
     "metadata": {
      "needs_background": "light"
     },
     "output_type": "display_data"
    }
   ],
   "source": [
    "plt.plot(x_train,y_train)"
   ]
  },
  {
   "cell_type": "code",
   "execution_count": 64,
   "id": "1bb7d2a8",
   "metadata": {},
   "outputs": [
    {
     "data": {
      "text/plain": [
       "tensor([[ 0.],\n",
       "        [ 1.],\n",
       "        [ 2.],\n",
       "        [ 3.],\n",
       "        [ 4.],\n",
       "        [ 5.],\n",
       "        [ 6.],\n",
       "        [ 7.],\n",
       "        [ 8.],\n",
       "        [ 9.],\n",
       "        [10.]])"
      ]
     },
     "execution_count": 64,
     "metadata": {},
     "output_type": "execute_result"
    }
   ],
   "source": [
    "X = torch.from_numpy(x_train).type(torch.float32)\n",
    "X"
   ]
  },
  {
   "cell_type": "code",
   "execution_count": 65,
   "id": "83f052f1",
   "metadata": {},
   "outputs": [
    {
     "data": {
      "text/plain": [
       "tensor([[ 0.],\n",
       "        [ 2.],\n",
       "        [ 4.],\n",
       "        [ 6.],\n",
       "        [ 8.],\n",
       "        [10.],\n",
       "        [12.],\n",
       "        [14.],\n",
       "        [16.],\n",
       "        [18.],\n",
       "        [20.]])"
      ]
     },
     "execution_count": 65,
     "metadata": {},
     "output_type": "execute_result"
    }
   ],
   "source": [
    "Y = torch.from_numpy(y_train).type(torch.float32)\n",
    "Y"
   ]
  },
  {
   "cell_type": "code",
   "execution_count": 57,
   "id": "8ed139d3",
   "metadata": {},
   "outputs": [],
   "source": [
    "model = nn.Linear(1,1)"
   ]
  },
  {
   "cell_type": "code",
   "execution_count": 59,
   "id": "6cfa531f",
   "metadata": {},
   "outputs": [],
   "source": [
    "loss_fn = nn.MSELoss()"
   ]
  },
  {
   "cell_type": "code",
   "execution_count": 60,
   "id": "51b4a380",
   "metadata": {},
   "outputs": [],
   "source": [
    "opt = torch.optim.SGD(model.parameters(), lr = 0.00001)"
   ]
  },
  {
   "cell_type": "code",
   "execution_count": 122,
   "id": "add4ce6d",
   "metadata": {},
   "outputs": [],
   "source": [
    "for epoch in range(1000):\n",
    "    for x,y in zip(X,Y):\n",
    "        y_pred = model(x)\n",
    "        loss = loss_fn(y,y_pred)\n",
    "        opt.zero_grad()     #把梯度清0\n",
    "        loss.backward()     #求解梯度\n",
    "        opt.step()          #模型优化    "
   ]
  },
  {
   "cell_type": "code",
   "execution_count": 123,
   "id": "ddb4b1ac",
   "metadata": {},
   "outputs": [
    {
     "data": {
      "text/plain": [
       "Parameter containing:\n",
       "tensor([[2.0141]], requires_grad=True)"
      ]
     },
     "execution_count": 123,
     "metadata": {},
     "output_type": "execute_result"
    }
   ],
   "source": [
    "model.weight"
   ]
  },
  {
   "cell_type": "code",
   "execution_count": 71,
   "id": "071837d9",
   "metadata": {},
   "outputs": [
    {
     "data": {
      "text/plain": [
       "Parameter containing:\n",
       "tensor([-0.1044], requires_grad=True)"
      ]
     },
     "execution_count": 71,
     "metadata": {},
     "output_type": "execute_result"
    }
   ],
   "source": [
    "model.bias"
   ]
  },
  {
   "cell_type": "code",
   "execution_count": 88,
   "id": "a21b4c6e",
   "metadata": {},
   "outputs": [
    {
     "data": {
      "text/plain": [
       "(array([20.045767], dtype=float32),\n",
       " array([[ 0.],\n",
       "        [ 1.],\n",
       "        [ 2.],\n",
       "        [ 3.],\n",
       "        [ 4.],\n",
       "        [ 5.],\n",
       "        [ 6.],\n",
       "        [ 7.],\n",
       "        [ 8.],\n",
       "        [ 9.],\n",
       "        [10.]], dtype=float32))"
      ]
     },
     "execution_count": 88,
     "metadata": {},
     "output_type": "execute_result"
    }
   ],
   "source": [
    "model(x).data.numpy(),X.numpy()"
   ]
  },
  {
   "cell_type": "code",
   "execution_count": 96,
   "id": "483bb1d4",
   "metadata": {
    "scrolled": true
   },
   "outputs": [
    {
     "data": {
      "text/plain": [
       "[<matplotlib.lines.Line2D at 0x219190b23a0>]"
      ]
     },
     "execution_count": 96,
     "metadata": {},
     "output_type": "execute_result"
    },
    {
     "data": {
      "image/png": "[encoded data removed]",
      "text/plain": [
       "<Figure size 432x288 with 1 Axes>"
      ]
     },
     "metadata": {
      "needs_background": "light"
     },
     "output_type": "display_data"
    }
   ],
   "source": [
    "plt.plot(X.numpy(),Y.numpy())\n",
    "plt.plot(X.numpy(),model(X).data.numpy())"
   ]
  },
  {
   "cell_type": "markdown",
   "id": "c4219309",
   "metadata": {},
   "source": [
    "### tensor常见数值类型"
   ]
  },
  {
   "cell_type": "code",
   "execution_count": 99,
   "id": "186113c5",
   "metadata": {},
   "outputs": [],
   "source": [
    "from torch import tensor"
   ]
  },
  {
   "cell_type": "markdown",
   "id": "42ad8954",
   "metadata": {},
   "source": [
    "#### scalar类型"
   ]
  },
  {
   "cell_type": "code",
   "execution_count": 100,
   "id": "f47c2b19",
   "metadata": {},
   "outputs": [
    {
     "data": {
      "text/plain": [
       "tensor(42.)"
      ]
     },
     "execution_count": 100,
     "metadata": {},
     "output_type": "execute_result"
    }
   ],
   "source": [
    "x = tensor(42.)\n",
    "x"
   ]
  },
  {
   "cell_type": "code",
   "execution_count": 101,
   "id": "7692be59",
   "metadata": {},
   "outputs": [
    {
     "data": {
      "text/plain": [
       "tensor(84.)"
      ]
     },
     "execution_count": 101,
     "metadata": {},
     "output_type": "execute_result"
    }
   ],
   "source": [
    "2*x"
   ]
  },
  {
   "cell_type": "code",
   "execution_count": 102,
   "id": "c6d3584f",
   "metadata": {},
   "outputs": [
    {
     "data": {
      "text/plain": [
       "42.0"
      ]
     },
     "execution_count": 102,
     "metadata": {},
     "output_type": "execute_result"
    }
   ],
   "source": [
    "x.item()"
   ]
  },
  {
   "cell_type": "markdown",
   "id": "ac9ebf07",
   "metadata": {},
   "source": [
    "#### Vector类型"
   ]
  },
  {
   "cell_type": "code",
   "execution_count": 104,
   "id": "ea7e50ba",
   "metadata": {},
   "outputs": [
    {
     "data": {
      "text/plain": [
       "tensor([ 1.5000, -0.5000,  3.0000])"
      ]
     },
     "execution_count": 104,
     "metadata": {},
     "output_type": "execute_result"
    }
   ],
   "source": [
    "v = tensor([1.5 , -0.5 , 3.0])\n",
    "v"
   ]
  },
  {
   "cell_type": "code",
   "execution_count": 105,
   "id": "421c9716",
   "metadata": {},
   "outputs": [
    {
     "data": {
      "text/plain": [
       "1"
      ]
     },
     "execution_count": 105,
     "metadata": {},
     "output_type": "execute_result"
    }
   ],
   "source": [
    "v.dim()"
   ]
  },
  {
   "cell_type": "code",
   "execution_count": 106,
   "id": "e5dd02e1",
   "metadata": {},
   "outputs": [
    {
     "data": {
      "text/plain": [
       "torch.Size([3])"
      ]
     },
     "execution_count": 106,
     "metadata": {},
     "output_type": "execute_result"
    }
   ],
   "source": [
    "v.size()"
   ]
  },
  {
   "cell_type": "markdown",
   "id": "421e19bd",
   "metadata": {},
   "source": [
    "#### Matrix 数据类型"
   ]
  },
  {
   "cell_type": "code",
   "execution_count": 117,
   "id": "7a94c61b",
   "metadata": {},
   "outputs": [
    {
     "data": {
      "text/plain": [
       "tensor([[1, 2],\n",
       "        [3, 4]])"
      ]
     },
     "execution_count": 117,
     "metadata": {},
     "output_type": "execute_result"
    }
   ],
   "source": [
    "M = tensor([[1,2],[3,4]])\n",
    "M"
   ]
  },
  {
   "cell_type": "code",
   "execution_count": 121,
   "id": "488dda5d",
   "metadata": {},
   "outputs": [
    {
     "data": {
      "text/plain": [
       "tensor([[ 7, 10],\n",
       "        [15, 22]])"
      ]
     },
     "execution_count": 121,
     "metadata": {},
     "output_type": "execute_result"
    }
   ],
   "source": [
    "torch.mm(M,M)       #矩阵乘法"
   ]
  },
  {
   "cell_type": "code",
   "execution_count": 118,
   "id": "4569a8c9",
   "metadata": {
    "scrolled": true
   },
   "outputs": [
    {
     "data": {
      "text/plain": [
       "tensor([[ 7, 10],\n",
       "        [15, 22]])"
      ]
     },
     "execution_count": 118,
     "metadata": {},
     "output_type": "execute_result"
    }
   ],
   "source": [
    "torch.matmul(M,M)   #矩阵乘法"
   ]
  },
  {
   "cell_type": "code",
   "execution_count": 120,
   "id": "08ac882a",
   "metadata": {},
   "outputs": [
    {
     "data": {
      "text/plain": [
       "tensor([[ 1,  4],\n",
       "        [ 9, 16]])"
      ]
     },
     "execution_count": 120,
     "metadata": {},
     "output_type": "execute_result"
    }
   ],
   "source": [
    "M*M       #矩阵内积"
   ]
  },
  {
   "cell_type": "markdown",
   "id": "04f4d656",
   "metadata": {},
   "source": [
    "### hub模块"
   ]
  },
  {
   "cell_type": "markdown",
   "id": "e72fe570",
   "metadata": {},
   "source": [
    "pytorch集成化的模块，可引用"
   ]
  },
  {
   "cell_type": "code",
   "execution_count": null,
   "id": "977338ba",
   "metadata": {},
   "outputs": [],
   "source": []
  },
  {
   "cell_type": "markdown",
   "id": "0a4bb6d5",
   "metadata": {},
   "source": [
    "### Dataset和Dataloader的使用"
   ]
  },
  {
   "cell_type": "code",
   "execution_count": 8,
   "id": "060e32de",
   "metadata": {},
   "outputs": [],
   "source": [
    "import pandas as pd\n",
    "import torch\n",
    "from torch import nn"
   ]
  },
  {
   "cell_type": "code",
   "execution_count": 9,
   "id": "ca66db40",
   "metadata": {},
   "outputs": [
    {
     "data": {
      "text/html": [
       "<div>\n",
       "<style scoped>\n",
       "    .dataframe tbody tr th:only-of-type {\n",
       "        vertical-align: middle;\n",
       "    }\n",
       "\n",
       "    .dataframe tbody tr th {\n",
       "        vertical-align: top;\n",
       "    }\n",
       "\n",
       "    .dataframe thead th {\n",
       "        text-align: right;\n",
       "    }\n",
       "</style>\n",
       "<table border=\"1\" class=\"dataframe\">\n",
       "  <thead>\n",
       "    <tr style=\"text-align: right;\">\n",
       "      <th></th>\n",
       "      <th>wechat</th>\n",
       "      <th>weibo</th>\n",
       "      <th>others</th>\n",
       "      <th>sales</th>\n",
       "    </tr>\n",
       "  </thead>\n",
       "  <tbody>\n",
       "    <tr>\n",
       "      <th>0</th>\n",
       "      <td>304.4</td>\n",
       "      <td>93.6</td>\n",
       "      <td>294.4</td>\n",
       "      <td>9.7</td>\n",
       "    </tr>\n",
       "    <tr>\n",
       "      <th>1</th>\n",
       "      <td>1011.9</td>\n",
       "      <td>34.4</td>\n",
       "      <td>398.4</td>\n",
       "      <td>16.7</td>\n",
       "    </tr>\n",
       "    <tr>\n",
       "      <th>2</th>\n",
       "      <td>1091.1</td>\n",
       "      <td>32.8</td>\n",
       "      <td>295.2</td>\n",
       "      <td>17.3</td>\n",
       "    </tr>\n",
       "    <tr>\n",
       "      <th>3</th>\n",
       "      <td>85.5</td>\n",
       "      <td>173.6</td>\n",
       "      <td>403.2</td>\n",
       "      <td>7.0</td>\n",
       "    </tr>\n",
       "    <tr>\n",
       "      <th>4</th>\n",
       "      <td>1047.0</td>\n",
       "      <td>302.4</td>\n",
       "      <td>553.6</td>\n",
       "      <td>22.1</td>\n",
       "    </tr>\n",
       "    <tr>\n",
       "      <th>...</th>\n",
       "      <td>...</td>\n",
       "      <td>...</td>\n",
       "      <td>...</td>\n",
       "      <td>...</td>\n",
       "    </tr>\n",
       "    <tr>\n",
       "      <th>195</th>\n",
       "      <td>869.5</td>\n",
       "      <td>229.6</td>\n",
       "      <td>145.6</td>\n",
       "      <td>17.3</td>\n",
       "    </tr>\n",
       "    <tr>\n",
       "      <th>196</th>\n",
       "      <td>1195.3</td>\n",
       "      <td>230.4</td>\n",
       "      <td>127.2</td>\n",
       "      <td>20.2</td>\n",
       "    </tr>\n",
       "    <tr>\n",
       "      <th>197</th>\n",
       "      <td>121.9</td>\n",
       "      <td>264.0</td>\n",
       "      <td>154.4</td>\n",
       "      <td>8.8</td>\n",
       "    </tr>\n",
       "    <tr>\n",
       "      <th>198</th>\n",
       "      <td>343.5</td>\n",
       "      <td>86.4</td>\n",
       "      <td>48.0</td>\n",
       "      <td>11.9</td>\n",
       "    </tr>\n",
       "    <tr>\n",
       "      <th>199</th>\n",
       "      <td>796.7</td>\n",
       "      <td>180.0</td>\n",
       "      <td>252.0</td>\n",
       "      <td>16.1</td>\n",
       "    </tr>\n",
       "  </tbody>\n",
       "</table>\n",
       "<p>200 rows × 4 columns</p>\n",
       "</div>"
      ],
      "text/plain": [
       "     wechat  weibo  others  sales\n",
       "0     304.4   93.6   294.4    9.7\n",
       "1    1011.9   34.4   398.4   16.7\n",
       "2    1091.1   32.8   295.2   17.3\n",
       "3      85.5  173.6   403.2    7.0\n",
       "4    1047.0  302.4   553.6   22.1\n",
       "..      ...    ...     ...    ...\n",
       "195   869.5  229.6   145.6   17.3\n",
       "196  1195.3  230.4   127.2   20.2\n",
       "197   121.9  264.0   154.4    8.8\n",
       "198   343.5   86.4    48.0   11.9\n",
       "199   796.7  180.0   252.0   16.1\n",
       "\n",
       "[200 rows x 4 columns]"
      ]
     },
     "execution_count": 9,
     "metadata": {},
     "output_type": "execute_result"
    }
   ],
   "source": [
    "data  = pd.read_csv(r\"D:\\python_notebook\\data\\sale.csv\")\n",
    "data"
   ]
  },
  {
   "cell_type": "code",
   "execution_count": 23,
   "id": "9948f981",
   "metadata": {},
   "outputs": [
    {
     "data": {
      "text/plain": [
       "(torch.Size([200, 3]), torch.Size([200, 1]))"
      ]
     },
     "execution_count": 23,
     "metadata": {},
     "output_type": "execute_result"
    }
   ],
   "source": [
    "x_train = torch.tensor(data.iloc[::,0:3].values).type(torch.float32)\n",
    "y_train = torch.tensor(data.iloc[::,3:].values).type(torch.float32)\n",
    "x_train.size(),y_train.size()"
   ]
  },
  {
   "cell_type": "code",
   "execution_count": 26,
   "id": "f68db65e",
   "metadata": {},
   "outputs": [],
   "source": [
    "from torch.utils.data import DataLoader,Dataset,TensorDataset"
   ]
  },
  {
   "cell_type": "code",
   "execution_count": 27,
   "id": "9c09f85d",
   "metadata": {},
   "outputs": [
    {
     "data": {
      "text/plain": [
       "<torch.utils.data.dataloader.DataLoader at 0x1f0daf35af0>"
      ]
     },
     "execution_count": 27,
     "metadata": {},
     "output_type": "execute_result"
    }
   ],
   "source": [
    "t_d = TensorDataset(x_train,y_train)\n",
    "train_data = DataLoader(t_d, batch_size = 100,shuffle= True)   #shuffle 使用随机切片  batch_size 选择随机抽取多少数据\n",
    "train_data"
   ]
  }
 ],
 "metadata": {
  "kernelspec": {
   "display_name": "pytorch",
   "language": "python",
   "name": "pytorch"
  },
  "language_info": {
   "codemirror_mode": {
    "name": "ipython",
    "version": 3
   },
   "file_extension": ".py",
   "mimetype": "text/x-python",
   "name": "python",
   "nbconvert_exporter": "python",
   "pygments_lexer": "ipython3",
   "version": "3.9.7"
  }
 },
 "nbformat": 4,
 "nbformat_minor": 5
}
