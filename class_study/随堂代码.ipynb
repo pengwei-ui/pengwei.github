{
 "cells": [
  {
   "cell_type": "code",
   "execution_count": 2,
   "id": "525b0d13",
   "metadata": {
    "ExecuteTime": {
     "end_time": "2022-10-17T14:37:24.328567Z",
     "start_time": "2022-10-17T14:37:23.655126Z"
    }
   },
   "outputs": [],
   "source": [
    "import numpy as np\n",
    "import matplotlib.pyplot as plt"
   ]
  },
  {
   "cell_type": "code",
   "execution_count": 100,
   "id": "c273845e",
   "metadata": {
    "ExecuteTime": {
     "end_time": "2022-10-15T06:58:11.491140Z",
     "start_time": "2022-10-15T06:58:11.400916Z"
    }
   },
   "outputs": [
    {
     "data": {
      "image/png": "[encoded data removed]",
      "text/plain": [
       "<Figure size 640x480 with 1 Axes>"
      ]
     },
     "metadata": {},
     "output_type": "display_data"
    }
   ],
   "source": [
    "mean1 = np.array([2,2])\n",
    "mean2 = np.array([-3,-3])\n",
    "con = np.eye(2)\n",
    "dot_num = 100\n",
    "array1 = np.random.multivariate_normal(mean1,con,dot_num)\n",
    "array2 = np.random.multivariate_normal(mean2,con,dot_num)\n",
    "x1 = [i[0]  for i in array1]\n",
    "y1 = [i[1]  for i in array1]\n",
    "x2 = [i[0]  for i in array2]\n",
    "y2 = [i[1]  for i in array2]  \n",
    "plt.scatter(x1,y1,c=\"r\",marker=\"+\")\n",
    "plt.scatter(x2,y2,c=\"b\",marker=\"*\")\n",
    "plt.scatter(-1,-1)\n",
    "plt.xlabel(\"X\")\n",
    "plt.ylabel(\"y\")\n",
    "plt.show()"
   ]
  },
  {
   "cell_type": "code",
   "execution_count": 4,
   "id": "53a3870d",
   "metadata": {
    "ExecuteTime": {
     "end_time": "2022-10-17T14:37:43.168024Z",
     "start_time": "2022-10-17T14:37:43.158487Z"
    }
   },
   "outputs": [
    {
     "data": {
      "text/plain": [
       "(array(10), array(1))"
      ]
     },
     "execution_count": 4,
     "metadata": {},
     "output_type": "execute_result"
    }
   ],
   "source": [
    "mean1 = np.array(10)\n",
    "x = np.array(1)\n",
    "mean1,x"
   ]
  },
  {
   "cell_type": "code",
   "execution_count": 97,
   "id": "2923a961",
   "metadata": {
    "ExecuteTime": {
     "end_time": "2022-10-15T06:52:59.456154Z",
     "start_time": "2022-10-15T06:52:59.442227Z"
    }
   },
   "outputs": [
    {
     "data": {
      "text/plain": [
       "array([[1., 0.],\n",
       "       [0., 1.]])"
      ]
     },
     "execution_count": 97,
     "metadata": {},
     "output_type": "execute_result"
    }
   ],
   "source": [
    "cnn = np.eye(2)\n",
    "cnn\n",
    "con = np.array([[1.,0.],[0.,1.]])\n",
    "con"
   ]
  },
  {
   "cell_type": "code",
   "execution_count": 2,
   "id": "036784b0",
   "metadata": {
    "ExecuteTime": {
     "end_time": "2022-10-15T05:11:32.895675Z",
     "start_time": "2022-10-15T05:11:32.845674Z"
    }
   },
   "outputs": [
    {
     "data": {
      "text/html": [
       "\n",
       "<script>\n",
       "    require.config({\n",
       "        paths: {\n",
       "            'echarts':'https://assets.pyecharts.org/assets/echarts.min'\n",
       "        }\n",
       "    });\n",
       "</script>\n",
       "\n",
       "        <div id=\"ee5902f765b64a819b46d5122b95a87e\" style=\"width:1600px; height:1000px;\"></div>\n",
       "\n",
       "<script>\n",
       "        require(['echarts'], function(echarts) {\n",
       "                var chart_ee5902f765b64a819b46d5122b95a87e = echarts.init(\n",
       "                    document.getElementById('ee5902f765b64a819b46d5122b95a87e'), 'white', {renderer: 'canvas'});\n",
       "                var option_ee5902f765b64a819b46d5122b95a87e = {\n",
       "    \"animation\": true,\n",
       "    \"animationThreshold\": 2000,\n",
       "    \"animationDuration\": 1000,\n",
       "    \"animationEasing\": \"cubicOut\",\n",
       "    \"animationDelay\": 0,\n",
       "    \"animationDurationUpdate\": 300,\n",
       "    \"animationEasingUpdate\": \"cubicOut\",\n",
       "    \"animationDelayUpdate\": 0,\n",
       "    \"color\": [\n",
       "        \"#c23531\",\n",
       "        \"#2f4554\",\n",
       "        \"#61a0a8\",\n",
       "        \"#d48265\",\n",
       "        \"#749f83\",\n",
       "        \"#ca8622\",\n",
       "        \"#bda29a\",\n",
       "        \"#6e7074\",\n",
       "        \"#546570\",\n",
       "        \"#c4ccd3\",\n",
       "        \"#f05b72\",\n",
       "        \"#ef5b9c\",\n",
       "        \"#f47920\",\n",
       "        \"#905a3d\",\n",
       "        \"#fab27b\",\n",
       "        \"#2a5caa\",\n",
       "        \"#444693\",\n",
       "        \"#726930\",\n",
       "        \"#b2d235\",\n",
       "        \"#6d8346\",\n",
       "        \"#ac6767\",\n",
       "        \"#1d953f\",\n",
       "        \"#6950a1\",\n",
       "        \"#918597\"\n",
       "    ],\n",
       "    \"series\": [\n",
       "        {\n",
       "            \"type\": \"scatter\",\n",
       "            \"symbolSize\": 20,\n",
       "            \"data\": [\n",
       "                [\n",
       "                    4.0,\n",
       "                    4.26\n",
       "                ],\n",
       "                [\n",
       "                    5.0,\n",
       "                    5.68\n",
       "                ],\n",
       "                [\n",
       "                    6.0,\n",
       "                    7.24\n",
       "                ],\n",
       "                [\n",
       "                    7.0,\n",
       "                    4.82\n",
       "                ],\n",
       "                [\n",
       "                    8.0,\n",
       "                    6.95\n",
       "                ],\n",
       "                [\n",
       "                    9.0,\n",
       "                    8.81\n",
       "                ],\n",
       "                [\n",
       "                    10.0,\n",
       "                    8.04\n",
       "                ],\n",
       "                [\n",
       "                    11.0,\n",
       "                    8.33\n",
       "                ],\n",
       "                [\n",
       "                    12.0,\n",
       "                    10.84\n",
       "                ],\n",
       "                [\n",
       "                    13.0,\n",
       "                    7.58\n",
       "                ],\n",
       "                [\n",
       "                    14.0,\n",
       "                    9.96\n",
       "                ]\n",
       "            ],\n",
       "            \"label\": {\n",
       "                \"show\": false,\n",
       "                \"position\": \"top\",\n",
       "                \"margin\": 8\n",
       "            },\n",
       "            \"rippleEffect\": {\n",
       "                \"show\": true,\n",
       "                \"brushType\": \"stroke\",\n",
       "                \"scale\": 2.5,\n",
       "                \"period\": 4\n",
       "            }\n",
       "        }\n",
       "    ],\n",
       "    \"legend\": [\n",
       "        {\n",
       "            \"data\": [\n",
       "                \"\"\n",
       "            ],\n",
       "            \"selected\": {\n",
       "                \"\": true\n",
       "            },\n",
       "            \"show\": true,\n",
       "            \"padding\": 5,\n",
       "            \"itemGap\": 10,\n",
       "            \"itemWidth\": 25,\n",
       "            \"itemHeight\": 14\n",
       "        }\n",
       "    ],\n",
       "    \"tooltip\": {\n",
       "        \"show\": false,\n",
       "        \"trigger\": \"item\",\n",
       "        \"triggerOn\": \"mousemove|click\",\n",
       "        \"axisPointer\": {\n",
       "            \"type\": \"line\"\n",
       "        },\n",
       "        \"showContent\": true,\n",
       "        \"alwaysShowContent\": false,\n",
       "        \"showDelay\": 0,\n",
       "        \"hideDelay\": 100,\n",
       "        \"textStyle\": {\n",
       "            \"fontSize\": 14\n",
       "        },\n",
       "        \"borderWidth\": 0,\n",
       "        \"padding\": 5\n",
       "    },\n",
       "    \"xAxis\": [\n",
       "        {\n",
       "            \"type\": \"value\",\n",
       "            \"show\": true,\n",
       "            \"scale\": false,\n",
       "            \"nameLocation\": \"end\",\n",
       "            \"nameGap\": 15,\n",
       "            \"gridIndex\": 0,\n",
       "            \"inverse\": false,\n",
       "            \"offset\": 0,\n",
       "            \"splitNumber\": 5,\n",
       "            \"minInterval\": 0,\n",
       "            \"splitLine\": {\n",
       "                \"show\": true,\n",
       "                \"lineStyle\": {\n",
       "                    \"show\": true,\n",
       "                    \"width\": 1,\n",
       "                    \"opacity\": 1,\n",
       "                    \"curveness\": 0,\n",
       "                    \"type\": \"solid\"\n",
       "                }\n",
       "            },\n",
       "            \"data\": [\n",
       "                4.0,\n",
       "                5.0,\n",
       "                6.0,\n",
       "                7.0,\n",
       "                8.0,\n",
       "                9.0,\n",
       "                10.0,\n",
       "                11.0,\n",
       "                12.0,\n",
       "                13.0,\n",
       "                14.0\n",
       "            ]\n",
       "        }\n",
       "    ],\n",
       "    \"yAxis\": [\n",
       "        {\n",
       "            \"type\": \"value\",\n",
       "            \"show\": true,\n",
       "            \"scale\": false,\n",
       "            \"nameLocation\": \"end\",\n",
       "            \"nameGap\": 15,\n",
       "            \"gridIndex\": 0,\n",
       "            \"axisTick\": {\n",
       "                \"show\": true,\n",
       "                \"alignWithLabel\": false,\n",
       "                \"inside\": false\n",
       "            },\n",
       "            \"inverse\": false,\n",
       "            \"offset\": 0,\n",
       "            \"splitNumber\": 5,\n",
       "            \"minInterval\": 0,\n",
       "            \"splitLine\": {\n",
       "                \"show\": true,\n",
       "                \"lineStyle\": {\n",
       "                    \"show\": true,\n",
       "                    \"width\": 1,\n",
       "                    \"opacity\": 1,\n",
       "                    \"curveness\": 0,\n",
       "                    \"type\": \"solid\"\n",
       "                }\n",
       "            }\n",
       "        }\n",
       "    ],\n",
       "    \"title\": [\n",
       "        {\n",
       "            \"padding\": 5,\n",
       "            \"itemGap\": 10\n",
       "        }\n",
       "    ]\n",
       "};\n",
       "                chart_ee5902f765b64a819b46d5122b95a87e.setOption(option_ee5902f765b64a819b46d5122b95a87e);\n",
       "        });\n",
       "    </script>\n"
      ],
      "text/plain": [
       "<pyecharts.render.display.HTML at 0x1a6dec87970>"
      ]
     },
     "execution_count": 2,
     "metadata": {},
     "output_type": "execute_result"
    }
   ],
   "source": [
    "import pyecharts.options as opts\n",
    "from pyecharts.charts import Scatter\n",
    "\n",
    "data = [\n",
    "    [10.0, 8.04],\n",
    "    [8.0, 6.95],\n",
    "    [13.0, 7.58],\n",
    "    [9.0, 8.81],\n",
    "    [11.0, 8.33],\n",
    "    [14.0, 9.96],\n",
    "    [6.0, 7.24],\n",
    "    [4.0, 4.26],\n",
    "    [12.0, 10.84],\n",
    "    [7.0, 4.82],\n",
    "    [5.0, 5.68],\n",
    "]\n",
    "data.sort(key=lambda x: x[0])\n",
    "x_data = [d[0] for d in data]\n",
    "y_data = [d[1] for d in data]\n",
    "\n",
    "(\n",
    "    Scatter(init_opts=opts.InitOpts(width=\"1600px\", height=\"1000px\"))\n",
    "    .add_xaxis(xaxis_data=x_data)\n",
    "    .add_yaxis(\n",
    "        series_name=\"\",\n",
    "        y_axis=y_data,\n",
    "        symbol_size=20,\n",
    "        label_opts=opts.LabelOpts(is_show=False),\n",
    "    )\n",
    "    .set_series_opts()\n",
    "    .set_global_opts(\n",
    "        xaxis_opts=opts.AxisOpts(\n",
    "            type_=\"value\", splitline_opts=opts.SplitLineOpts(is_show=True)\n",
    "        ),\n",
    "        yaxis_opts=opts.AxisOpts(\n",
    "            type_=\"value\",\n",
    "            axistick_opts=opts.AxisTickOpts(is_show=True),\n",
    "            splitline_opts=opts.SplitLineOpts(is_show=True),\n",
    "        ),\n",
    "        tooltip_opts=opts.TooltipOpts(is_show=False),\n",
    "    )\n",
    "    .render_notebook()\n",
    ")\n"
   ]
  }
 ],
 "metadata": {
  "kernelspec": {
   "display_name": "pytorch",
   "language": "python",
   "name": "pytorch"
  },
  "language_info": {
   "codemirror_mode": {
    "name": "ipython",
    "version": 3
   },
   "file_extension": ".py",
   "mimetype": "text/x-python",
   "name": "python",
   "nbconvert_exporter": "python",
   "pygments_lexer": "ipython3",
   "version": "3.9.7"
  }
 },
 "nbformat": 4,
 "nbformat_minor": 5
}
